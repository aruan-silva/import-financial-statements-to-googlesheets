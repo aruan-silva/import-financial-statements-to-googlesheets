{
  "cells": [
    {
      "cell_type": "markdown",
      "metadata": {
        "id": "HIVdi6E5FhUv"
      },
      "source": [
        "# Setup\n"
      ]
    },
    {
      "cell_type": "markdown",
      "metadata": {},
      "source": [
        "This is a small project to get financial information in mass and quickly in order to analyze stocks fundamentals.\n",
        "\n",
        "I understand that I don't follow some \"good practices\" standards, I'm only an enthusiast trying to get things done with more productivity.\n",
        "\n",
        "Hope this is useful for you somehow.\n",
        "\n",
        "Thanks for reading."
      ]
    },
    {
      "cell_type": "code",
      "execution_count": null,
      "metadata": {
        "id": "MfZoxXfBE-9-"
      },
      "outputs": [],
      "source": [
        "!pip install gspread\n",
        "!pip install yfinance"
      ]
    },
    {
      "cell_type": "code",
      "execution_count": null,
      "metadata": {
        "id": "8Drg3C68Fvmf"
      },
      "outputs": [],
      "source": [
        "from google.colab import auth\n",
        "from oauth2client.client import GoogleCredentials"
      ]
    },
    {
      "cell_type": "code",
      "execution_count": null,
      "metadata": {
        "id": "9JSITN16BX6M"
      },
      "outputs": [],
      "source": [
        "import gspread"
      ]
    },
    {
      "cell_type": "code",
      "execution_count": null,
      "metadata": {
        "id": "Pd3iPpoqBUtV"
      },
      "outputs": [],
      "source": [
        "from google.colab import auth\n",
        "auth.authenticate_user()\n",
        "\n",
        "import gspread\n",
        "from google.auth import default\n",
        "creds, _ = default()\n",
        "\n",
        "gc = gspread.authorize(creds)"
      ]
    },
    {
      "cell_type": "code",
      "execution_count": null,
      "metadata": {
        "colab": {
          "base_uri": "https://localhost:8080/"
        },
        "id": "aFRp3mBNF42z",
        "outputId": "6e2bcb7f-ca4a-4689-a4db-7a88eee2d9ca"
      },
      "outputs": [],
      "source": [
        "workbook = gc.open('name of workbook')\n",
        "worksheet = workbook.get_worksheet('index')\n",
        "verify = worksheet.cell('range to verify if you wrote it correctly') #google sheet index differ from python. \n",
        "print(verify)"
      ]
    },
    {
      "cell_type": "code",
      "execution_count": null,
      "metadata": {
        "id": "XgshOoyGFOaz"
      },
      "outputs": [],
      "source": [
        "import requests\n",
        "import re\n"
      ]
    },
    {
      "cell_type": "code",
      "execution_count": null,
      "metadata": {
        "id": "amNcA-4LFadk"
      },
      "outputs": [],
      "source": [
        "!pip install pyEX\n"
      ]
    },
    {
      "cell_type": "code",
      "execution_count": null,
      "metadata": {
        "id": "AtL-JBYwFfzb"
      },
      "outputs": [],
      "source": [
        "import pyEX as p\n"
      ]
    },
    {
      "cell_type": "code",
      "execution_count": null,
      "metadata": {
        "id": "ExjlfzK3GdEt"
      },
      "outputs": [],
      "source": [
        "import yfinance as yf\n",
        "import numpy as np\n",
        "import pandas as pd"
      ]
    },
    {
      "cell_type": "code",
      "execution_count": null,
      "metadata": {
        "id": "16MZu1ijHrwv"
      },
      "outputs": [],
      "source": [
        "c = p.Client(api_token='iexCloud provides one for premium clients')"
      ]
    },
    {
      "cell_type": "markdown",
      "metadata": {
        "id": "TGribuRtuUfL"
      },
      "source": [
        "# 1st round"
      ]
    },
    {
      "cell_type": "code",
      "execution_count": null,
      "metadata": {
        "id": "YRQkH9cw_lpM"
      },
      "outputs": [],
      "source": [
        "for i in range ('stock tickers range'):\n",
        "  v = worksheet.cell(i,1).value #column with stock tickers\n",
        "  tickers = yf.Ticker(v)\n",
        "  try:\n",
        "    #yfinance library\n",
        "    totrev = tickers.info['totalRevenue']\n",
        "    name = tickers.info['longName']\n",
        "    ev = tickers.info['enterpriseValue']\n",
        "    ebitda = tickers.info['ebitda']\n",
        "    evrev = tickers.info['enterpriseToRevenue']    \n",
        "    ico = tickers.quarterly_financials.sum(axis=1).to_dict()['Net Income From Continuing Ops']\n",
        "    totrdvalue = tickers.quarterly_financials.sum(axis=1).to_dict()['Research Development']\n",
        "    rdlastqvalue = tickers.quarterly_financials.iloc[0,1] #last Q r&d\n",
        "    explastq = tickers.quarterly_financials.iloc[-6,1] # Last Q Expenses\n",
        "    totexp = tickers.quarterly_financials.sum(axis=1).to_dict()['Total Operating Expenses']\n",
        "    salesmkt = tickers.quarterly_financials.sum(axis=1).to_dict()['Selling General Administrative'] # sales mkt\n",
        "    #pyEX\n",
        "    inc = c.incomeStatementDF( v, period='quarter', last=9)\n",
        "    incc = c.incomeStatement( v, period='quarter', last=9)\n",
        "    cf = c.cashFlowDF(v, period = 'quarter', last=9)\n",
        "    incq4 = inc[3]\n",
        "    incq3 = inc[2]\n",
        "    incq2 = inc[1]\n",
        "    incq1 = inc[0]\n",
        "    netin4 = incq4['netIncome']\n",
        "    netin3 = incq3['netIncome']\n",
        "    netin2 = incq2['netIncome']\n",
        "    netin1 = incq1['netIncome']\n",
        "    ttmNetin = sum([netin1, netin2, netin3, netin4]) #netIncome\n",
        "    #grossProfit\n",
        "    gp0 = (inc[0])['grossProfit']\n",
        "    gp1 = (inc[1])['grossProfit']\n",
        "    gp2 = (inc[2])['grossProfit']\n",
        "    gp3 = (inc[3])['grossProfit']\n",
        "    gp4 = (inc[4])['grossProfit']\n",
        "    gp5 = (inc[5])['grossProfit']\n",
        "    gp6 = (inc[6])['grossProfit']\n",
        "    gp7 = (inc[7])['grossProfit']\n",
        "    #revenue\n",
        "    tr0 = (inc[0])['totalRevenue']\n",
        "    tr1 = (inc[1])['totalRevenue']\n",
        "    tr2 = (inc[2])['totalRevenue']\n",
        "    tr3 = (inc[3])['totalRevenue']\n",
        "    tr4 = (inc[4])['totalRevenue']\n",
        "    tr5 = (inc[5])['totalRevenue']\n",
        "    tr6 = (inc[6])['totalRevenue']\n",
        "    tr7 = (inc[7])['totalRevenue']\n",
        "    #sum yr I and F\n",
        "    gpyr1 = sum([gp0,gp1,gp2,gp3])\n",
        "    gpyr2 = sum([gp4,gp5,gp6,gp7])\n",
        "    tryr1 = sum([tr0,tr1,tr2,tr3])\n",
        "    tryr2 = sum([tr4,tr5,tr6,tr7])\n",
        "    #gross margin yr I and F\n",
        "    gmyr1 = gpyr1 / tryr1\n",
        "    gmyr2 = gpyr2 / tryr2\n",
        "    #grossmargin yoy\n",
        "    gmyoy = ((gmyr1-gmyr2)/gmyr2)\n",
        "    #ebit\n",
        "    incfinal = inc.iloc[1:5]\n",
        "    ebitF = incfinal['ebit'].sum()\n",
        "    incinicial = inc.iloc[5:9]\n",
        "    ebitI = incinicial['ebit'].sum()\n",
        "    #depreciation\n",
        "    finalcf = cf.iloc[1:5]\n",
        "    depF = finalcf['depreciation'].sum()\n",
        "    inicf = cf.iloc[5:9]\n",
        "    depI = inicf['depreciation'].sum()\n",
        "    #ebitda\n",
        "    ebitdaF = sum([depF,ebitF])\n",
        "    ebitdaI = sum([depI,ebitI])\n",
        "    #total revenue\n",
        "    rev1 = incc[1]['totalRevenue']\n",
        "    rev2 = incc[2]['totalRevenue']\n",
        "    rev3 = incc[3]['totalRevenue']\n",
        "    rev4 = incc[4]['totalRevenue']\n",
        "    revttmF = sum([rev1,rev2,rev3,rev4])\n",
        "    rev5 = incc[5]['totalRevenue']\n",
        "    rev6 = incc[6]['totalRevenue']\n",
        "    rev7 = incc[7]['totalRevenue']\n",
        "    rev8 = incc[8]['totalRevenue']\n",
        "    revttmI = sum([rev5,rev6,rev7,rev8])\n",
        "    #ebitda margin\n",
        "    ebitdamgF = ebitdaF/revttmF\n",
        "    ebitdamgI = ebitdaI/revttmI\n",
        "    #ebitda margin yoy\n",
        "    ebitdamgyoy = (ebitdamgF-ebitdamgI)/ebitdamgI    \n",
        "    #update all\n",
        "    worksheet.update_cell(i,2,name)\n",
        "    worksheet.update_cell(i,28,ev)\n",
        "    worksheet.update_cell(i,34,totrev)\n",
        "    worksheet.update_cell(i,35,ttmNetin) \n",
        "    worksheet.update_cell(i,36,ico)\n",
        "    worksheet.update_cell(i,37,gmyr1)\n",
        "    worksheet.update_cell(i,38,totrdvalue)\n",
        "    worksheet.update_cell(i,39,rdlastqvalue)\n",
        "    worksheet.update_cell(i,40,salesmkt)\n",
        "    worksheet.update_cell(i,41,totexp)\n",
        "    worksheet.update_cell(i,42,explastq)\n",
        "    worksheet.update_cell(i,43,ebitda)\n",
        "    worksheet.update_cell(i,48,gmyoy)\n",
        "    worksheet.update_cell(i,49,ebitdamgyoy)\n",
        "    worksheet.update_cell(i,71,evrev)\n",
        "  except:  \n",
        "    continue"
      ]
    },
    {
      "cell_type": "markdown",
      "metadata": {
        "id": "d4rbeypQKa7e"
      },
      "source": [
        "# 2nd round - cash and debt"
      ]
    },
    {
      "cell_type": "code",
      "execution_count": null,
      "metadata": {
        "id": "QOOSb50VKcbD"
      },
      "outputs": [],
      "source": [
        "for i in range ('stock tickers range'):\n",
        "  v = worksheet.cell(i,1).value #column with stock tickers\n",
        "  try:\n",
        "    url = \"https://seeking-alpha.p.rapidapi.com/symbols/get-summary\"\n",
        "    querystring = {\"symbols\":v}\n",
        "    headers = {\n",
        "      \"X-RapidAPI-Host\": \"seeking-alpha.p.rapidapi.com\",\n",
        "      \"X-RapidAPI-Key\": \"for clients only\"\n",
        "      }\n",
        "    response = requests.request(\"GET\", url, headers=headers, params=querystring)\n",
        "    texto = response.text\n",
        "    lista = re.split(',',texto)\n",
        "    cash = re.split(':',lista[1])[2]\n",
        "    debt = re.split(':',lista[-8])[1]\n",
        "    worksheet.update_cell(i,45,cash)\n",
        "    worksheet.update_cell(i,46,debt)\n",
        "  except:\n",
        "    continue"
      ]
    }
  ],
  "metadata": {
    "colab": {
      "collapsed_sections": [],
      "name": "Update All Fields.ipynb",
      "provenance": []
    },
    "kernelspec": {
      "display_name": "Python 3",
      "name": "python3"
    },
    "language_info": {
      "name": "python"
    }
  },
  "nbformat": 4,
  "nbformat_minor": 0
}
